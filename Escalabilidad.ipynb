{
 "cells": [
  {
   "cell_type": "markdown",
   "id": "adult-fruit",
   "metadata": {},
   "source": [
    "# W5 - Escalabilidad\n",
    "\n",
    "* Oscar Juárez - 17315\n",
    "* Computación paralela y distribuida\n",
    "* Fecha: 11/02/2021\n",
    "\n",
    "Programa interactivo de python que permite analizar si un programa es escalable, tomando en cuenta su Speedup, Eficiencia y un dominio creciente."
   ]
  },
  {
   "cell_type": "markdown",
   "id": "divided-medicaid",
   "metadata": {},
   "source": [
    "**Funciones útiles a lo largo del programa**"
   ]
  },
  {
   "cell_type": "code",
   "execution_count": null,
   "id": "standard-attack",
   "metadata": {},
   "outputs": [],
   "source": [
    "from math import log\n",
    "import plotly.express as px\n",
    "import pandas as pd\n",
    "\n",
    "\n",
    "def SpeedupLineal(Ts, Tp):\n",
    "    return Ts/Tp\n",
    "\n",
    "\n",
    "def Eficiencia(S, p):\n",
    "    return S/p\n",
    "\n",
    "\n",
    "def TParalelo(n, p):\n",
    "    return n/p + log(p)\n",
    "\n",
    "\n",
    "def ObtenerDatos(p):\n",
    "    for n in range(10, 330, 10):\n",
    "        tparalelo = TParalelo(n, p)\n",
    "        speedup = SpeedupLineal(n, tparalelo)\n",
    "        yield speedup, Eficiencia(speedup, p)"
   ]
  },
  {
   "cell_type": "markdown",
   "id": "spectacular-microwave",
   "metadata": {},
   "source": [
    "**Generación de los datos**"
   ]
  },
  {
   "cell_type": "code",
   "execution_count": null,
   "id": "posted-cheese",
   "metadata": {},
   "outputs": [],
   "source": [
    "dicc = {}\n",
    "dicc['Dominio'] = [val for val in range(10, 330 ,10)]\n",
    "for n in [1, 2, 4, 8, 16, 32]:\n",
    "    data = list(ObtenerDatos(n))\n",
    "    dicc[f'S{n}'] = [i[0] for i in data]\n",
    "    dicc[f'E{n}'] = [i[1] for i in data]\n",
    "\n",
    "df = pd.DataFrame(dicc)"
   ]
  },
  {
   "cell_type": "markdown",
   "id": "acceptable-schedule",
   "metadata": {},
   "source": [
    "## Speedup de cada núcleo en el dominio"
   ]
  },
  {
   "cell_type": "code",
   "execution_count": null,
   "id": "confirmed-cattle",
   "metadata": {
    "scrolled": false
   },
   "outputs": [],
   "source": [
    "fig = px.line(df, x='Dominio', y=['S1','S2', 'S4', 'S8','S16', 'S32'],\n",
    "             labels={\n",
    "                 'value': 'Speedup',\n",
    "                 'variable': 'Núcleos'\n",
    "             },\n",
    "             title='Speedup de Cada Núcleo por Dominio')\n",
    "fig.show()"
   ]
  },
  {
   "cell_type": "markdown",
   "id": "constitutional-forty",
   "metadata": {},
   "source": [
    "### Comentario del gráfico\n",
    "\n",
    "En el gráfico del speedup se puede observar que este aumenta de manera logarítmica, proporcional a la cantidad de nucleos. Se denota una mejora en la ejecución del programa con diferentes tareas y se le saca el mejor provecho con una alta cantidad de núcleos."
   ]
  },
  {
   "cell_type": "markdown",
   "id": "fewer-opportunity",
   "metadata": {},
   "source": [
    "## Eficiencia de cada núcleo en el dominio"
   ]
  },
  {
   "cell_type": "code",
   "execution_count": null,
   "id": "absent-greek",
   "metadata": {
    "scrolled": false
   },
   "outputs": [],
   "source": [
    "fig = px.line(df, x='Dominio', y=['E1','E2', 'E4', 'E8','E16', 'E32'],\n",
    "             labels={\n",
    "                 'value': 'Eficiencia',\n",
    "                 'variable': 'Núcleos'\n",
    "             },\n",
    "             title='Eficiencia de Cada Núcleo por Dominio')\n",
    "fig.show()"
   ]
  },
  {
   "cell_type": "markdown",
   "id": "intermediate-northwest",
   "metadata": {},
   "source": [
    "### Comentario del gráfico\n",
    "\n",
    "La eficiencia de cada núcleo también depende de la cantidad de tareas que tengamos. Es decir, para un dominio muy bajo, la eficiencia de múchos núcleos será baja. Sin embargo, a medida que los núcleos y las tareas aumentan, la eficiencia de cada núcleo mejorará hasta llegar a su punto de rendimiento máximo."
   ]
  },
  {
   "cell_type": "markdown",
   "id": "opponent-badge",
   "metadata": {},
   "source": [
    "## Proponemos un valor k\n",
    "\n",
    "Se repetirá el procedimiento, esta vez proponiendo un valor de k de 2.5 (factor de crecimiento para los procesadores). Se tomará como base 16 núcleos."
   ]
  },
  {
   "cell_type": "markdown",
   "id": "middle-taxation",
   "metadata": {},
   "source": [
    "**Generación de los datos**"
   ]
  },
  {
   "cell_type": "code",
   "execution_count": null,
   "id": "specialized-friend",
   "metadata": {},
   "outputs": [],
   "source": [
    "k = 2.5\n",
    "p = 32\n",
    "\n",
    "dicc = {}\n",
    "data = list(ObtenerDatos(p*k))\n",
    "dicc['Dominio'] = [val for val in range(10,330,10)]\n",
    "dicc['Eficiencia'] = [i[1] for i in data]\n",
    "\n",
    "df = pd.DataFrame(dicc)"
   ]
  },
  {
   "cell_type": "markdown",
   "id": "north-ecology",
   "metadata": {},
   "source": [
    "**Se grafica nuevamente la eficiencia**"
   ]
  },
  {
   "cell_type": "code",
   "execution_count": null,
   "id": "viral-robertson",
   "metadata": {},
   "outputs": [],
   "source": [
    "fig = px.line(df, x='Dominio', y='Eficiencia',\n",
    "             labels={'value': 'Eficiencia'},\n",
    "             title='Eficiencia de 32 Núcleos por Dominio, con un Factor k de Crecimiento')\n",
    "fig.show()"
   ]
  },
  {
   "cell_type": "markdown",
   "id": "decent-lafayette",
   "metadata": {},
   "source": [
    "## ¿El programa es Escalable?"
   ]
  },
  {
   "cell_type": "markdown",
   "id": "mobile-minneapolis",
   "metadata": {},
   "source": [
    "El programa es **levemente escalable**, puesto que las unidades de procesamiento deberan de ser aumentadas a medida que se aumenta el tamaño del problema. De lo contrario, estaríamos perdiendo mucha eficiencia conforme más procesadores sean utilizados. Además, el gráfico se comporta de una forma muy similar con este nuevo factor de crecimiento, por lo que se entiende que a lo largo del tiempo la eficiencia se mantiene."
   ]
  }
 ],
 "metadata": {
  "kernelspec": {
   "display_name": "Python 3",
   "language": "python",
   "name": "python3"
  },
  "language_info": {
   "codemirror_mode": {
    "name": "ipython",
    "version": 3
   },
   "file_extension": ".py",
   "mimetype": "text/x-python",
   "name": "python",
   "nbconvert_exporter": "python",
   "pygments_lexer": "ipython3",
   "version": "3.8.3"
  }
 },
 "nbformat": 4,
 "nbformat_minor": 5
}
